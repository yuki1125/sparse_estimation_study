{
 "cells": [
  {
   "cell_type": "code",
   "execution_count": 2,
   "metadata": {},
   "outputs": [],
   "source": [
    "import copy\n",
    "import japanize_matplotlib\n",
    "%matplotlib inline\n",
    "import matplotlib.pyplot as plt\n",
    "import numpy as np\n",
    "import scipy \n",
    "from matplotlib.pyplot import imshow\n",
    "from numpy.random import randn\n",
    "from scipy import stats"
   ]
  },
  {
   "cell_type": "code",
   "execution_count": 3,
   "metadata": {},
   "outputs": [],
   "source": [
    "def liner(X, y):\n",
    "    \"\"\"linear regression\n",
    "\n",
    "    Args:\n",
    "        X (_type_): 説明変数\n",
    "        y (_type_): target \n",
    "    \"\"\"\n",
    "    p = X.shape[1]\n",
    "    x_bar = [np.mean(X[:, j]) for j in range(p)]\n",
    "    X = [X[:, j]-x_bar[j] for j in range(p)]\n",
    "    \n",
    "    y_bar = np.mean(y)\n",
    "    y = y - y_bar\n",
    "    \n",
    "    beta = np.dot(np.linealg.inv(np.dot(X.T, X)), np.dot(X.T, y))\n",
    "    \n",
    "    beta_0 = y_bar - np.dot(x_bar, beta)\n",
    "    \n",
    "    return beta, beta_0"
   ]
  },
  {
   "cell_type": "code",
   "execution_count": 17,
   "metadata": {},
   "outputs": [],
   "source": [
    "def soft_th(lam, x):\n",
    "    return np.sign(x)*np.maximum(np.abs(x)-lam, np.zeros(1))\n",
    "\n",
    "def centralize(X0, y0, standardize=True):\n",
    "    X = copy.copy(X0)\n",
    "    y = copy.copy(y0)\n",
    "    n, p = X.shape\n",
    "    X_bar = np.zeros(p)                   # Xの各列の平均\n",
    "    X_sd = np.zeros(p)                    # Xの各列の標準偏差\n",
    "    for j in range(p):\n",
    "        X_bar[j] = np.mean(X[:, j])\n",
    "        X[:, j] = X[:, j] - X_bar[j]      # Xの各列の中心化\n",
    "        X_sd[j] = np.std(X[:, j])\n",
    "        if standardize is True:\n",
    "            X[:, j] = X[:, j] / X_sd[j]   # Xの各列の標準化\n",
    "    if np.ndim(y) == 2:\n",
    "        K = y.shape[1]\n",
    "        y_bar = np.zeros(K)               # yの平均\n",
    "        for k in range(K):\n",
    "            y_bar[k] = np.mean(y[:, k])\n",
    "            y[:, k] = y[:, k] - y_bar[k]  # yの中心化\n",
    "    else:                                 # yがベクトルの場合\n",
    "        y_bar = np.mean(y)\n",
    "        y = y - y_bar\n",
    "    return X, y, X_bar, X_sd, y_bar\n",
    "    \n",
    "def linear_lasso(X, y, lam=0, beta=None):\n",
    "    n, p = X.shape\n",
    "    if beta is None:\n",
    "        beta = np.zeros(p)\n",
    "    X, y, X_bar, X_sd, y_bar = centralize(X, y)   # 中心化（下記参照）\n",
    "    eps = 1\n",
    "    beta_old = copy.copy(beta)\n",
    "    while eps > 0.00001:    # このループの収束を待つ\n",
    "        for j in range(p):\n",
    "            r = y\n",
    "            for k in range(p):\n",
    "                if j != k:\n",
    "                    r = r - X[:, k] * beta[k]\n",
    "            z = (np.dot(r, X[:, j]) / n) / (np.dot(X[:, j], X[:, j]) / n)\n",
    "            beta[j] = soft_th(lam, z)\n",
    "        eps = np.linalg.norm(beta - beta_old, 2)\n",
    "        beta_old = copy.copy(beta)\n",
    "    beta = beta / X_sd   # 各変数の係数を正規化前のものに戻す\n",
    "    beta_0 = y_bar - np.dot(X_bar, beta)\n",
    "    return beta, beta_0\n",
    "                    "
   ]
  },
  {
   "cell_type": "code",
   "execution_count": 18,
   "metadata": {},
   "outputs": [
    {
     "data": {
      "text/plain": [
       "<matplotlib.legend.Legend at 0x7f407349f640>"
      ]
     },
     "execution_count": 18,
     "metadata": {},
     "output_type": "execute_result"
    },
    {
     "data": {
      "image/png": "[encoded data removed]",
      "text/plain": [
       "<Figure size 432x288 with 1 Axes>"
      ]
     },
     "metadata": {
      "needs_background": "light"
     },
     "output_type": "display_data"
    }
   ],
   "source": [
    "df = np.loadtxt(\"./data/input/crime.txt\", delimiter=\"\\t\")\n",
    "X = df[:, [i for i in range(2, 7)]]\n",
    "p = X.shape[1]\n",
    "y = df[:, 0]\n",
    "lambda_seq = np.arange(0, 200, 0.1)\n",
    "plt.xlim(0, 200)\n",
    "plt.ylim(-10, 20)\n",
    "plt.xlabel(r\"$\\lambda$\")\n",
    "plt.ylabel(r\"$\\beta$\")\n",
    "labels = [\"A\", \"B\", \"C\", \"D\", \"E\"]\n",
    "\n",
    "r = len(lambda_seq)\n",
    "\n",
    "coef_seq = np.zeros((r, p))\n",
    "\n",
    "for i in range(r):\n",
    "    coef_seq[i, :], _ = linear_lasso(X, y, lambda_seq[i])\n",
    "\n",
    "for j in range(p):\n",
    "    plt.plot(lambda_seq, coef_seq[:, j], label=labels[j])\n",
    "plt.legend(loc=\"upper right\")"
   ]
  },
  {
   "cell_type": "code",
   "execution_count": null,
   "metadata": {},
   "outputs": [],
   "source": []
  }
 ],
 "metadata": {
  "interpreter": {
   "hash": "53ba66eb6f428d1092ae3b9027b06ae9e5cf16b10dac95b2d579398cac1a6435"
  },
  "kernelspec": {
   "display_name": "Python 3.8.10 ('venv38statisticalLearning': venv)",
   "language": "python",
   "name": "python3"
  },
  "language_info": {
   "codemirror_mode": {
    "name": "ipython",
    "version": 3
   },
   "file_extension": ".py",
   "mimetype": "text/x-python",
   "name": "python",
   "nbconvert_exporter": "python",
   "pygments_lexer": "ipython3",
   "version": "3.8.10"
  },
  "orig_nbformat": 4
 },
 "nbformat": 4,
 "nbformat_minor": 2
}
