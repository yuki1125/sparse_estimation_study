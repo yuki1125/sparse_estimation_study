{
 "cells": [
  {
   "cell_type": "code",
   "execution_count": 28,
   "metadata": {},
   "outputs": [],
   "source": [
    "import copy\n",
    "import japanize_matplotlib\n",
    "%matplotlib inline\n",
    "import matplotlib.pyplot as plt\n",
    "import numpy as np\n",
    "import scipy \n",
    "from matplotlib.pyplot import imshow\n",
    "from numpy.random import randn\n",
    "from scipy import stats\n",
    "\n",
    "from sklearn.linear_model import LinearRegression\n",
    "from sklearn.datasets import load_boston"
   ]
  },
  {
   "cell_type": "code",
   "execution_count": 3,
   "metadata": {},
   "outputs": [],
   "source": [
    "def liner(X, y):\n",
    "    \"\"\"linear regression\n",
    "\n",
    "    Args:\n",
    "        X (_type_): 説明変数\n",
    "        y (_type_): target \n",
    "    \"\"\"\n",
    "    p = X.shape[1]\n",
    "    x_bar = [np.mean(X[:, j]) for j in range(p)]\n",
    "    X = [X[:, j]-x_bar[j] for j in range(p)]\n",
    "    \n",
    "    y_bar = np.mean(y)\n",
    "    y = y - y_bar\n",
    "    \n",
    "    beta = np.dot(np.linealg.inv(np.dot(X.T, X)), np.dot(X.T, y))\n",
    "    \n",
    "    beta_0 = y_bar - np.dot(x_bar, beta)\n",
    "    \n",
    "    return beta, beta_0"
   ]
  },
  {
   "cell_type": "code",
   "execution_count": 17,
   "metadata": {},
   "outputs": [],
   "source": [
    "def soft_th(lam, x):\n",
    "    return np.sign(x)*np.maximum(np.abs(x)-lam, np.zeros(1))\n",
    "\n",
    "def centralize(X0, y0, standardize=True):\n",
    "    X = copy.copy(X0)\n",
    "    y = copy.copy(y0)\n",
    "    n, p = X.shape\n",
    "    X_bar = np.zeros(p)                   # Xの各列の平均\n",
    "    X_sd = np.zeros(p)                    # Xの各列の標準偏差\n",
    "    for j in range(p):\n",
    "        X_bar[j] = np.mean(X[:, j])\n",
    "        X[:, j] = X[:, j] - X_bar[j]      # Xの各列の中心化\n",
    "        X_sd[j] = np.std(X[:, j])\n",
    "        if standardize is True:\n",
    "            X[:, j] = X[:, j] / X_sd[j]   # Xの各列の標準化\n",
    "    if np.ndim(y) == 2:\n",
    "        K = y.shape[1]\n",
    "        y_bar = np.zeros(K)               # yの平均\n",
    "        for k in range(K):\n",
    "            y_bar[k] = np.mean(y[:, k])\n",
    "            y[:, k] = y[:, k] - y_bar[k]  # yの中心化\n",
    "    else:                                 # yがベクトルの場合\n",
    "        y_bar = np.mean(y)\n",
    "        y = y - y_bar\n",
    "    return X, y, X_bar, X_sd, y_bar\n",
    "    \n",
    "def linear_lasso(X, y, lam=0, beta=None):\n",
    "    n, p = X.shape\n",
    "    if beta is None:\n",
    "        beta = np.zeros(p)\n",
    "    X, y, X_bar, X_sd, y_bar = centralize(X, y)   # 中心化（下記参照）\n",
    "    eps = 1\n",
    "    beta_old = copy.copy(beta)\n",
    "    while eps > 0.00001:    # このループの収束を待つ\n",
    "        for j in range(p):\n",
    "            r = y\n",
    "            for k in range(p):\n",
    "                if j != k:\n",
    "                    r = r - X[:, k] * beta[k]\n",
    "            z = (np.dot(r, X[:, j]) / n) / (np.dot(X[:, j], X[:, j]) / n)\n",
    "            beta[j] = soft_th(lam, z)\n",
    "        eps = np.linalg.norm(beta - beta_old, 2)\n",
    "        beta_old = copy.copy(beta)\n",
    "    beta = beta / X_sd   # 各変数の係数を正規化前のものに戻す\n",
    "    beta_0 = y_bar - np.dot(X_bar, beta)\n",
    "    return beta, beta_0\n",
    "                    "
   ]
  },
  {
   "cell_type": "code",
   "execution_count": 18,
   "metadata": {},
   "outputs": [
    {
     "data": {
      "text/plain": [
       "<matplotlib.legend.Legend at 0x7f407349f640>"
      ]
     },
     "execution_count": 18,
     "metadata": {},
     "output_type": "execute_result"
    },
    {
     "data": {
      "image/png": "[encoded data removed]",
      "text/plain": [
       "<Figure size 432x288 with 1 Axes>"
      ]
     },
     "metadata": {
      "needs_background": "light"
     },
     "output_type": "display_data"
    }
   ],
   "source": [
    "df = np.loadtxt(\"./data/input/crime.txt\", delimiter=\"\\t\")\n",
    "X = df[:, [i for i in range(2, 7)]]\n",
    "p = X.shape[1]\n",
    "y = df[:, 0]\n",
    "lambda_seq = np.arange(0, 200, 0.1)\n",
    "plt.xlim(0, 200)\n",
    "plt.ylim(-10, 20)\n",
    "plt.xlabel(r\"$\\lambda$\")\n",
    "plt.ylabel(r\"$\\beta$\")\n",
    "labels = [\"A\", \"B\", \"C\", \"D\", \"E\"]\n",
    "\n",
    "r = len(lambda_seq)\n",
    "\n",
    "coef_seq = np.zeros((r, p))\n",
    "\n",
    "for i in range(r):\n",
    "    coef_seq[i, :], _ = linear_lasso(X, y, lambda_seq[i])\n",
    "\n",
    "for j in range(p):\n",
    "    plt.plot(lambda_seq, coef_seq[:, j], label=labels[j])\n",
    "plt.legend(loc=\"upper right\")"
   ]
  },
  {
   "cell_type": "code",
   "execution_count": 19,
   "metadata": {},
   "outputs": [],
   "source": [
    "def warm_start(X, y, lambda_max=100):\n",
    "    dec = np.round(lambda_max/50) # lambdaの値をN分割する\n",
    "    lambda_seq = np.arange(lambda_max, 1, -dec)\n",
    "    r = len(lambda_seq)\n",
    "    p = X.shape[1]\n",
    "    beta = np.zeros(p)\n",
    "    coef_seq = np.zeros((r, p))\n",
    "    \n",
    "    for k in range(r):\n",
    "        beta, _ = linear_lasso(X, y, lambda_seq[k], beta)\n",
    "        coef_seq[k, :] = beta\n",
    "    return coef_seq"
   ]
  },
  {
   "cell_type": "code",
   "execution_count": 24,
   "metadata": {},
   "outputs": [
    {
     "data": {
      "image/png": "[encoded data removed]",
      "text/plain": [
       "<Figure size 432x288 with 1 Axes>"
      ]
     },
     "metadata": {
      "needs_background": "light"
     },
     "output_type": "display_data"
    }
   ],
   "source": [
    "df = np.loadtxt(\"../sparse_estimation/data/input/crime.txt\", delimiter=\"\\t\")\n",
    "X = df[:, [i for i in range(2, 7)]]\n",
    "p = X.shape[1]\n",
    "y = df[:, 0]\n",
    "coef_seq = warm_start(X, y, 200)\n",
    "lambda_max = 200\n",
    "dec = round(lambda_max/50)\n",
    "lambda_seq = np.arange(lambda_max, 1, -dec)\n",
    "plt.ylim(np.min(coef_seq), np.max(coef_seq))\n",
    "plt.xlabel(r\"$lambda$\")\n",
    "plt.ylabel(\"係数\")\n",
    "plt.xlim(0, 200)\n",
    "plt.ylim(-10, 20)\n",
    "for j in range(p):\n",
    "    plt.plot(lambda_seq, coef_seq[:, j])"
   ]
  },
  {
   "cell_type": "code",
   "execution_count": 25,
   "metadata": {},
   "outputs": [],
   "source": [
    "def ridge(X, y, lam=0):\n",
    "    n, p = X.shape\n",
    "    X, y, X_bar, X_sd, y_bar = centralize(X,y)\n",
    "    beta = np.dot(np.linalg.inv(np.dot(X.T, X) + n*lam*np.eye(p)), np.dot(X.T, y))\n",
    "    \n",
    "    beta = beta/X_sd\n",
    "    beta_0 = y_bar - np.dot(X_bar, beta)\n",
    "    return beta, beta_0"
   ]
  },
  {
   "cell_type": "code",
   "execution_count": 27,
   "metadata": {},
   "outputs": [
    {
     "data": {
      "text/plain": [
       "<matplotlib.legend.Legend at 0x7f4070013eb0>"
      ]
     },
     "execution_count": 27,
     "metadata": {},
     "output_type": "execute_result"
    },
    {
     "data": {
      "image/png": "[encoded data removed]",
      "text/plain": [
       "<Figure size 432x288 with 1 Axes>"
      ]
     },
     "metadata": {
      "needs_background": "light"
     },
     "output_type": "display_data"
    }
   ],
   "source": [
    "df = np.loadtxt(\"../sparse_estimation/data/input/crime.txt\", delimiter=\"\\t\")\n",
    "X = df[:, [i for i in range(2, 7)]]\n",
    "p = X.shape[1]\n",
    "y = df[:, 0]\n",
    "lambda_seq = np.arange(0, 200, 0.1)\n",
    "plt.xlim(0, 100)\n",
    "plt.ylim(-10, 20)\n",
    "plt.xlabel(r\"$\\lambda$\")\n",
    "plt.ylabel(r\"$\\beta$\")\n",
    "plt.title(r\"各$\\lambda$についての各係数の値\")\n",
    "labels = [\"警察への年間資金\", \"25歳以上で高校を卒業した人の割合\",\n",
    "          \"16-19歳で高校に通っていない人の割合\",\n",
    "          \"18-24歳で大学生の割合\", \"25歳以上で4年制大学を卒業した人の割合\"]\n",
    "r = len(lambda_seq)\n",
    "beta = np.zeros(p)\n",
    "coef_seq = np.zeros((r, p))\n",
    "for i in range(r):\n",
    "    beta, beta_0 = ridge(X, y, lambda_seq[i])\n",
    "    coef_seq[i, :] = beta\n",
    "for j in range(p):\n",
    "    plt.plot(lambda_seq, coef_seq[:, j], label=labels[j])\n",
    "plt.legend(loc=\"upper right\")"
   ]
  },
  {
   "cell_type": "code",
   "execution_count": 34,
   "metadata": {},
   "outputs": [],
   "source": [
    "def R2(x, y):\n",
    "    model = LinearRegression()\n",
    "    model.fit(x, y)           # モデルの訓練\n",
    "    y_hat = model.predict(x)  # 予測値の表示\n",
    "    y_bar = np.mean(y)\n",
    "    RSS = np.dot(y - y_hat, y - y_hat)\n",
    "    TSS = np.dot(y - y_bar, y - y_bar)\n",
    "    return 1 - RSS / TSS\n",
    "\n",
    "def vif(x):\n",
    "    p = x.shape[1]\n",
    "    values = np.zeros(p)\n",
    "    for j in range(p):\n",
    "        ind = [i for i in range(p) if i != j]\n",
    "        values[j] = 1 / (1 - R2(x[:, ind], x[:, j]))\n",
    "    return values\n"
   ]
  },
  {
   "cell_type": "code",
   "execution_count": 35,
   "metadata": {},
   "outputs": [
    {
     "name": "stderr",
     "output_type": "stream",
     "text": [
      "/home/yuki/Documents/study/statisticalLearning/venv38statisticalLearning/lib/python3.8/site-packages/sklearn/utils/deprecation.py:87: FutureWarning: Function load_boston is deprecated; `load_boston` is deprecated in 1.0 and will be removed in 1.2.\n",
      "\n",
      "    The Boston housing prices dataset has an ethical problem. You can refer to\n",
      "    the documentation of this function for further details.\n",
      "\n",
      "    The scikit-learn maintainers therefore strongly discourage the use of this\n",
      "    dataset unless the purpose of the code is to study and educate about\n",
      "    ethical issues in data science and machine learning.\n",
      "\n",
      "    In this special case, you can fetch the dataset from the original\n",
      "    source::\n",
      "\n",
      "        import pandas as pd\n",
      "        import numpy as np\n",
      "\n",
      "\n",
      "        data_url = \"http://lib.stat.cmu.edu/datasets/boston\"\n",
      "        raw_df = pd.read_csv(data_url, sep=\"\\s+\", skiprows=22, header=None)\n",
      "        data = np.hstack([raw_df.values[::2, :], raw_df.values[1::2, :2]])\n",
      "        target = raw_df.values[1::2, 2]\n",
      "\n",
      "    Alternative datasets include the California housing dataset (i.e.\n",
      "    :func:`~sklearn.datasets.fetch_california_housing`) and the Ames housing\n",
      "    dataset. You can load the datasets as follows::\n",
      "\n",
      "        from sklearn.datasets import fetch_california_housing\n",
      "        housing = fetch_california_housing()\n",
      "\n",
      "    for the California housing dataset and::\n",
      "\n",
      "        from sklearn.datasets import fetch_openml\n",
      "        housing = fetch_openml(name=\"house_prices\", as_frame=True)\n",
      "\n",
      "    for the Ames housing dataset.\n",
      "    \n",
      "  warnings.warn(msg, category=FutureWarning)\n"
     ]
    },
    {
     "data": {
      "text/plain": [
       "array([1.83153668, 2.35218589, 3.99250315, 1.09522267, 4.58692024,\n",
       "       2.26037436, 3.10084282, 4.39600725, 7.80819843, 9.20554209,\n",
       "       1.99301566, 1.38146295, 3.5815848 , 3.85568427])"
      ]
     },
     "execution_count": 35,
     "metadata": {},
     "output_type": "execute_result"
    }
   ],
   "source": [
    "boston = load_boston()\n",
    "n = boston.data.shape[0]\n",
    "z = np.concatenate([boston.data, boston.target.reshape([n, 1])], 1)\n",
    "vif(z)"
   ]
  },
  {
   "cell_type": "code",
   "execution_count": 36,
   "metadata": {},
   "outputs": [],
   "source": [
    "def elastic_net(X, y, lam=0, alpha=1, beta=None):                     #\n",
    "    n, p = X.shape\n",
    "    if beta is None:\n",
    "        beta = np.zeros(p)\n",
    "    X, y, X_bar, X_sd, y_bar = centralize(X, y)   # 中心化\n",
    "    eps = 1\n",
    "    beta_old = copy.copy(beta)\n",
    "    while eps > 0.00001:    # このループの収束を待つ\n",
    "        for j in range(p):\n",
    "            r = y\n",
    "            for k in range(p):\n",
    "                if j != k:\n",
    "                    r = r - X[:, k] * beta[k]\n",
    "            z = (np.dot(r, X[:, j]) / n)                                    ##\n",
    "            beta[j] = (soft_th(lam * alpha, z)                              ##\n",
    "                       / (np.dot(X[:, j], X[:, j]) / n + (1-alpha) * lam))  ##\n",
    "        eps = np.linalg.norm(beta - beta_old, 2)\n",
    "        beta_old = copy.copy(beta)\n",
    "    beta = beta / X_sd   # 各変数の係数を正規化前のものに戻す\n",
    "    beta_0 = y_bar - np.dot(X_bar, beta)\n",
    "    return beta, beta_0"
   ]
  },
  {
   "cell_type": "code",
   "execution_count": 37,
   "metadata": {},
   "outputs": [],
   "source": [
    "def cv_linear_lasso(x, y, alpha=1, k=10):\n",
    "    lam_max = np.max(np.dot(x.T, y) / np.dot(x.T, x))\n",
    "    lam_seq = np.array(range(100))**3 / 1000000 * lam_max\n",
    "    n = len(y)\n",
    "    m = int(n / k)\n",
    "    r = n % k\n",
    "    S_min = np.inf\n",
    "    for lam in lam_seq:\n",
    "        S = 0\n",
    "        for i in range(k):\n",
    "            if i < k - r:\n",
    "                index = list(range(i*m, i*m + m))\n",
    "            else:\n",
    "                index = list(range(i*m + (i-k+r), i*m + (m+i-k+r+1)))\n",
    "                # nをkで割れない場合\n",
    "            _index = list(set(range(n)) - set(index))\n",
    "            beta, beta0 = elastic_net(x[_index, ], y[_index], lam, alpha)\n",
    "            z = np.linalg.norm((y[index] - beta0 - np.dot(x[index], beta)), 2)\n",
    "            S = S + z**2\n",
    "        if S < S_min:\n",
    "            S_min = S.copy()\n",
    "            lam_best = lam.copy()\n",
    "            beta0_best = beta0.copy()\n",
    "            beta_best = beta.copy()\n",
    "    return lam_best, beta0_best, beta_best, S_min"
   ]
  },
  {
   "cell_type": "code",
   "execution_count": 39,
   "metadata": {},
   "outputs": [
    {
     "data": {
      "text/plain": [
       "Text(0.5, 1.0, '$y=x^2-3x+|x|$')"
      ]
     },
     "execution_count": 39,
     "metadata": {},
     "output_type": "execute_result"
    },
    {
     "data": {
      "image/png": "[encoded data removed]",
      "text/plain": [
       "<Figure size 432x288 with 1 Axes>"
      ]
     },
     "metadata": {
      "needs_background": "light"
     },
     "output_type": "display_data"
    }
   ],
   "source": [
    "x = np.arange(-2, 2, 0.1)\n",
    "y = x**2 -3*x +np.abs(x)\n",
    "\n",
    "plt.plot(x, y)\n",
    "plt.scatter(1, -1, c=\"red\")\n",
    "plt.title(\"$y=x^2-3x+|x|$\")"
   ]
  },
  {
   "cell_type": "code",
   "execution_count": 41,
   "metadata": {},
   "outputs": [
    {
     "data": {
      "text/plain": [
       "Text(0.5, 1.0, '$y=x^2-3x+|x|$')"
      ]
     },
     "execution_count": 41,
     "metadata": {},
     "output_type": "execute_result"
    },
    {
     "data": {
      "image/png": "[encoded data removed]",
      "text/plain": [
       "<Figure size 432x288 with 1 Axes>"
      ]
     },
     "metadata": {
      "needs_background": "light"
     },
     "output_type": "display_data"
    }
   ],
   "source": [
    "x = np.arange(-2, 2, 0.1)\n",
    "y = x**2+x +2*np.abs(x)\n",
    "\n",
    "plt.plot(x, y)\n",
    "plt.scatter(0, 0, c=\"red\")\n",
    "plt.title(\"$y=x^2-3x+|x|$\")"
   ]
  },
  {
   "cell_type": "code",
   "execution_count": null,
   "metadata": {},
   "outputs": [],
   "source": []
  }
 ],
 "metadata": {
  "interpreter": {
   "hash": "53ba66eb6f428d1092ae3b9027b06ae9e5cf16b10dac95b2d579398cac1a6435"
  },
  "kernelspec": {
   "display_name": "Python 3.8.10 ('venv38statisticalLearning': venv)",
   "language": "python",
   "name": "python3"
  },
  "language_info": {
   "codemirror_mode": {
    "name": "ipython",
    "version": 3
   },
   "file_extension": ".py",
   "mimetype": "text/x-python",
   "name": "python",
   "nbconvert_exporter": "python",
   "pygments_lexer": "ipython3",
   "version": "3.8.10"
  },
  "orig_nbformat": 4
 },
 "nbformat": 4,
 "nbformat_minor": 2
}
