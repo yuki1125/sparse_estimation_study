{
 "cells": [
  {
   "cell_type": "code",
   "execution_count": 2,
   "metadata": {},
   "outputs": [],
   "source": [
    "import copy\n",
    "import japanize_matplotlib\n",
    "%matplotlib inline\n",
    "import matplotlib.pyplot as plt\n",
    "import numpy as np\n",
    "import scipy \n",
    "from matplotlib.pyplot import imshow\n",
    "from numpy.random import randn\n",
    "from scipy import stats"
   ]
  },
  {
   "cell_type": "code",
   "execution_count": 3,
   "metadata": {},
   "outputs": [],
   "source": [
    "def liner(X, y):\n",
    "    \"\"\"linear regression\n",
    "\n",
    "    Args:\n",
    "        X (_type_): 説明変数\n",
    "        y (_type_): target \n",
    "    \"\"\"\n",
    "    p = X.shape[1]\n",
    "    x_bar = [np.mean(X[:, j]) for j in range(p)]\n",
    "    X = [X[:, j]-x_bar[j] for j in range(p)]\n",
    "    \n",
    "    y_bar = np.mean(y)\n",
    "    y = y - y_bar\n",
    "    \n",
    "    beta = np.dot(np.linealg.inv(np.dot(X.T, X)), np.dot(X.T, y))\n",
    "    \n",
    "    beta_0 = y_bar - np.dot(x_bar, beta)\n",
    "    \n",
    "    return beta, beta_0"
   ]
  },
  {
   "cell_type": "code",
   "execution_count": 5,
   "metadata": {},
   "outputs": [],
   "source": [
    "def soft_th(lam, x):\n",
    "    return np.sign(x)*np.maximum(np.abs(x)-lam, np.zeros(1))\n",
    "\n",
    "def centralize(X0, y0, standardize=True):\n",
    "    X = copy.copy(X0)\n",
    "    y = copy.copy(y0)\n",
    "    n, p = X.shape\n",
    "    X_bar = np.zeros(p)\n",
    "    X_sd  = np.zeros(p)\n",
    "\n",
    "    for j in range(p):\n",
    "        X_bar[j] = np.mean(X[:, j])\n",
    "        X[:, j]  = X[:, j] - X_bar[j]\n",
    "        X_sd[j]  = np.std(X[:, j])\n",
    "        if standardize is True:\n",
    "            X[:, j] = X[:, :] - X_bar[j]\n",
    "            \n",
    "        if np.ndim(y) == 2:\n",
    "            K = y.shape[1]\n",
    "            y_bar = np.zeros(K)\n",
    "            for k in range(K):\n",
    "                y_bar[k] = np.mean(y[:,k])\n",
    "                y[:, k] = y[:, k] - y_bar[k]\n",
    "                \n",
    "        else:\n",
    "            y_bar = np.mean(y)\n",
    "            y = y - y_bar\n",
    "        return X, y, X_bar, X_sd, y_bar\n",
    "    \n",
    "def linear_lasso(X, y, lam=0, beta=None):\n",
    "    n, p = X.shape\n",
    "    \n",
    "    if beta is None:\n",
    "        beta = np.zeros(p)\n",
    "        \n",
    "    X, y, X_bar, X_sd, y_bar = centralize(X, y)\n",
    "    eps = 1\n",
    "    beta_old = copy.copy(beta)\n",
    "    \n",
    "    while eps > 0.00001:\n",
    "        for j in range(p):\n",
    "            r = y\n",
    "            for k in range(p):\n",
    "                if j != k:\n",
    "                    r = r - X[:, k]*beta[k]\n",
    "            z = (np.dot(r, X[:, k])/n)\n",
    "            beta[j] = soft_th(lam, z)\n",
    "        eps = np.linalg.norm(beta - beta_old, 2)\n",
    "        beta_old = copy.copy(beta)\n",
    "    beta = beta/X_sd\n",
    "    beta_0 = y_bar - np.dot(X_bar, beta)\n",
    "    \n",
    "    return beta, beta_0\n",
    "                    "
   ]
  },
  {
   "cell_type": "code",
   "execution_count": null,
   "metadata": {},
   "outputs": [],
   "source": []
  }
 ],
 "metadata": {
  "interpreter": {
   "hash": "53ba66eb6f428d1092ae3b9027b06ae9e5cf16b10dac95b2d579398cac1a6435"
  },
  "kernelspec": {
   "display_name": "Python 3.8.10 ('venv38statisticalLearning': venv)",
   "language": "python",
   "name": "python3"
  },
  "language_info": {
   "codemirror_mode": {
    "name": "ipython",
    "version": 3
   },
   "file_extension": ".py",
   "mimetype": "text/x-python",
   "name": "python",
   "nbconvert_exporter": "python",
   "pygments_lexer": "ipython3",
   "version": "3.8.10"
  },
  "orig_nbformat": 4
 },
 "nbformat": 4,
 "nbformat_minor": 2
}
